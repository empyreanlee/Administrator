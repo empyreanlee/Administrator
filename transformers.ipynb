{
  "nbformat": 4,
  "nbformat_minor": 0,
  "metadata": {
    "colab": {
      "provenance": [],
      "authorship_tag": "ABX9TyNN69Kt/8AiwHemchQnk1uv",
      "include_colab_link": true
    },
    "kernelspec": {
      "name": "python3",
      "display_name": "Python 3"
    },
    "language_info": {
      "name": "python"
    }
  },
  "cells": [
    {
      "cell_type": "markdown",
      "metadata": {
        "id": "view-in-github",
        "colab_type": "text"
      },
      "source": [
        "<a href=\"https://colab.research.google.com/github/empyreanlee/Administrator/blob/main/transformers.ipynb\" target=\"_parent\"><img src=\"https://colab.research.google.com/assets/colab-badge.svg\" alt=\"Open In Colab\"/></a>"
      ]
    },
    {
      "cell_type": "code",
      "source": [
        "import pandas as pd\n",
        "import numpy as np\n",
        "from transformers import AutoTokenizer, AutoModel\n",
        "import torch\n",
        "from sklearn.metrics.pairwise import cosine_similarity\n",
        "from sklearn.decomposition import PCA"
      ],
      "metadata": {
        "id": "NGKh7ZEt_rCp"
      },
      "execution_count": 12,
      "outputs": []
    },
    {
      "cell_type": "code",
      "source": [
        "df = pd.read_csv('shampoo_products_data.csv')\n",
        "df.head()"
      ],
      "metadata": {
        "id": "c9KyDlrVSb-1"
      },
      "execution_count": null,
      "outputs": []
    },
    {
      "cell_type": "code",
      "source": [
        "model_name = 'sentence-transformers/all-MiniLM-L6-v2'\n",
        "tokenizer = AutoTokenizer.from_pretrained(model_name)\n",
        "model = AutoModel.from_pretrained(model_name)"
      ],
      "metadata": {
        "id": "kiOtche0SdQ8"
      },
      "execution_count": null,
      "outputs": []
    },
    {
      "cell_type": "code",
      "source": [
        "def get_embeddings(text, model):\n",
        "  inputs = tokenizer(text, return_tensors=\"pt\", truncation=True, padding= True)\n",
        "  with torch.no_grad():\n",
        "    outputs=model(**inputs)\n",
        "    return outputs.last_hidden_state.mean(dim=1).numpy()\n",
        "\n",
        "embeddings = [get_embeddings(text, model=model) for text in df['Product_Details'].values]"
      ],
      "metadata": {
        "id": "q_FA0PgESg4V"
      },
      "execution_count": null,
      "outputs": []
    },
    {
      "cell_type": "code",
      "source": [
        "\n",
        "#embeddings_array = np.vstack(embeddings)\n",
        "#pca = PCA(n_components=2)\n",
        "#reduced_embeddings = pca.fit_transform(embeddings_array)\n",
        "reduced_embeddings = embeddings\n",
        "\n",
        "similarity_matrix = np.zeros((len(reduced_embeddings), len(reduced_embeddings)))\n",
        "for i in range(len(reduced_embeddings)):\n",
        "  for j in range(len(reduced_embeddings)):\n",
        "    if i == j:\n",
        "      similarity_matrix[i][j] =1.0\n",
        "    else:\n",
        "      similarity_matrix[i][j] = cosine_similarity(reduced_embeddings[i].reshape(1,-1), reduced_embeddings[j].reshape(1,-1))[0][0]\n",
        "    #else:\n",
        "     # similarity_matrix[i][j] = similarity_matrix[i][j]"
      ],
      "metadata": {
        "id": "LSDElF6hSo_t"
      },
      "execution_count": null,
      "outputs": []
    },
    {
      "cell_type": "code",
      "source": [
        "p_name = pd.Series(df['Product_Name'])\n",
        "p_name"
      ],
      "metadata": {
        "id": "UeXS_CuXSqeP"
      },
      "execution_count": null,
      "outputs": []
    },
    {
      "cell_type": "code",
      "source": [
        "def product_recommend(Product_Name, cos_sim = similarity_matrix):\n",
        "  recommended_prod = []\n",
        "  idx = p_name[p_name == Product_Name].index[0]\n",
        "  score_series = pd.Series(cos_sim[idx]).sort_values(ascending = False)\n",
        "  top_5_indexes = list(score_series.iloc[1:6].index)\n",
        "  for i in top_5_indexes:\n",
        "    recommended_prod.append(p_name.iloc[i])\n",
        "  return recommended_prod"
      ],
      "metadata": {
        "id": "PAA99wl4VBJT"
      },
      "execution_count": null,
      "outputs": []
    },
    {
      "cell_type": "code",
      "source": [
        "product_recommend('DOVE BOTANIC BREAKAGE PROTECT SHAMPOO')"
      ],
      "metadata": {
        "id": "yphP3p8QS49Y"
      },
      "execution_count": null,
      "outputs": []
    },
    {
      "cell_type": "code",
      "source": [
        "df_sim_matrix = pd.DataFrame(similarity_matrix , index= p_name, columns= p_name)\n",
        "df_sim_matrix"
      ],
      "metadata": {
        "id": "g7dPh-APS7JH"
      },
      "execution_count": null,
      "outputs": []
    },
    {
      "cell_type": "code",
      "source": [],
      "metadata": {
        "id": "wkBv2ili0avp"
      },
      "execution_count": null,
      "outputs": []
    },
    {
      "cell_type": "code",
      "source": [
        "# textual cluster analysis\n",
        "from sklearn.feature_extraction.text import TfidfVectorizer\n",
        "from sklearn.cluster import KMeans\n",
        "from sklearn.metrics import silhouette_score"
      ],
      "metadata": {
        "id": "ZCD_ECp4V35Y"
      },
      "execution_count": 1,
      "outputs": []
    },
    {
      "cell_type": "code",
      "source": [
        "vectorizer = TfidfVectorizer()\n",
        "X = vectorizer.fit_transform(df['Product_Details'])"
      ],
      "metadata": {
        "id": "uyLgrXteWJZY"
      },
      "execution_count": null,
      "outputs": []
    },
    {
      "cell_type": "code",
      "source": [
        "true_k = 5\n",
        "model = KMeans(n_clusters= true_k, init='k-means++', max_iter=100, n_init=1)\n",
        "model.fit(X)\n",
        "def print_cluster(i):\n",
        "  print(f\"Cluster{i}\")\n",
        "  for ind in order_centroids[i, :5]:\n",
        "    print(f\"{terms[ind]}\")\n",
        "  print\n",
        "\n",
        "print(\"Top terms per cluster\")\n",
        "order_centroids = model.cluster_centers_.argsort()[:, ::-1]\n",
        "terms = vectorizer.get_feature_names_out()\n",
        "for i in range(true_k):\n",
        "  print_cluster(i)"
      ],
      "metadata": {
        "id": "hsYO3u1pWndf"
      },
      "execution_count": null,
      "outputs": []
    },
    {
      "cell_type": "code",
      "source": [
        "def show_recommend(product):\n",
        "  Y = vectorizer.transform([product])\n",
        "  prediction= model.predict(Y)\n",
        "\n",
        "  print_cluster(prediction[0])"
      ],
      "metadata": {
        "id": "0G8Dct3EZj_Z"
      },
      "execution_count": null,
      "outputs": []
    },
    {
      "cell_type": "code",
      "source": [
        "show_recommend('olive oil')"
      ],
      "metadata": {
        "id": "S67SOFVJbbyi"
      },
      "execution_count": null,
      "outputs": []
    }
  ]
}